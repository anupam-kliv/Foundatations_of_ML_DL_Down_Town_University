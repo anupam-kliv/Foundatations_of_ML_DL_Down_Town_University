{
 "cells": [
  {
   "cell_type": "markdown",
   "metadata": {
    "papermill": {
     "duration": 0.007486,
     "end_time": "2020-09-04T04:47:28.165687",
     "exception": false,
     "start_time": "2020-09-04T04:47:28.158201",
     "status": "completed"
    },
    "tags": []
   },
   "source": [
    "# Mnist Handwritten Digit dataset with Pytorch (CNN)\n",
    "> Hi Everyone, in this notebook we're going to train a neural network for the famous MNIST digit dataset, using Pytorch\n",
    "Just a friendly reminder that the MNIST Handwritten digit dataset has 70,000 images of size 28 * 28\n",
    "\n",
    "References: This [notebook](https://www.kaggle.com/tarunpaparaju/mnist-competition-pytorch-nn) from [Tarun Paparaju](https://www.kaggle.com/tarunpaparaju)\n"
   ]
  },
  {
   "cell_type": "code",
   "execution_count": 1,
   "metadata": {
    "_cell_guid": "b1076dfc-b9ad-4769-8c92-a6c4dae69d19",
    "_uuid": "8f2839f25d086af736a60e9eeb907d3b93b6e0e5",
    "execution": {
     "iopub.execute_input": "2020-09-04T04:47:28.184614Z",
     "iopub.status.busy": "2020-09-04T04:47:28.183894Z",
     "iopub.status.idle": "2020-09-04T04:47:29.602247Z",
     "shell.execute_reply": "2020-09-04T04:47:29.601504Z"
    },
    "papermill": {
     "duration": 1.430654,
     "end_time": "2020-09-04T04:47:29.602402",
     "exception": false,
     "start_time": "2020-09-04T04:47:28.171748",
     "status": "completed"
    },
    "tags": []
   },
   "outputs": [],
   "source": [
    "# Bread and butter of Machine learning\n",
    "import pandas as pd\n",
    "import numpy as np\n",
    "import matplotlib.pyplot as plt\n",
    "\n",
    "# Importing torch libraries\n",
    "import torch.nn as nn\n",
    "import torch.nn.functional as F\n",
    "import torch\n",
    "from torch.utils.data import Dataset, DataLoader\n",
    "\n",
    "# Bread and butter of Machine learning\n",
    "import pandas as pd\n",
    "import numpy as np\n",
    "import matplotlib.pyplot as plt\n",
    "\n",
    "# To make waiting look fancy\n",
    "from tqdm import tqdm"
   ]
  },
  {
   "cell_type": "markdown",
   "metadata": {
    "papermill": {
     "duration": 0.005526,
     "end_time": "2020-09-04T04:47:29.613880",
     "exception": false,
     "start_time": "2020-09-04T04:47:29.608354",
     "status": "completed"
    },
    "tags": []
   },
   "source": [
    "# Meeting the data"
   ]
  },
  {
   "cell_type": "code",
   "execution_count": 2,
   "metadata": {
    "_cell_guid": "79c7e3d0-c299-4dcb-8224-4455121ee9b0",
    "_uuid": "d629ff2d2480ee46fbb7e2d37f6b5fab8052498a",
    "execution": {
     "iopub.execute_input": "2020-09-04T04:47:29.633586Z",
     "iopub.status.busy": "2020-09-04T04:47:29.632930Z",
     "iopub.status.idle": "2020-09-04T04:47:34.068932Z",
     "shell.execute_reply": "2020-09-04T04:47:34.069459Z"
    },
    "papermill": {
     "duration": 4.4498,
     "end_time": "2020-09-04T04:47:34.069619",
     "exception": false,
     "start_time": "2020-09-04T04:47:29.619819",
     "status": "completed"
    },
    "tags": []
   },
   "outputs": [
    {
     "data": {
      "text/plain": [
       "(   label  pixel0  pixel1  pixel2  pixel3  pixel4  pixel5  pixel6  pixel7  \\\n",
       " 0      1       0       0       0       0       0       0       0       0   \n",
       " 1      0       0       0       0       0       0       0       0       0   \n",
       " 2      1       0       0       0       0       0       0       0       0   \n",
       " 3      4       0       0       0       0       0       0       0       0   \n",
       " 4      0       0       0       0       0       0       0       0       0   \n",
       " \n",
       "    pixel8  ...  pixel774  pixel775  pixel776  pixel777  pixel778  pixel779  \\\n",
       " 0       0  ...         0         0         0         0         0         0   \n",
       " 1       0  ...         0         0         0         0         0         0   \n",
       " 2       0  ...         0         0         0         0         0         0   \n",
       " 3       0  ...         0         0         0         0         0         0   \n",
       " 4       0  ...         0         0         0         0         0         0   \n",
       " \n",
       "    pixel780  pixel781  pixel782  pixel783  \n",
       " 0         0         0         0         0  \n",
       " 1         0         0         0         0  \n",
       " 2         0         0         0         0  \n",
       " 3         0         0         0         0  \n",
       " 4         0         0         0         0  \n",
       " \n",
       " [5 rows x 785 columns],\n",
       "    pixel0  pixel1  pixel2  pixel3  pixel4  pixel5  pixel6  pixel7  pixel8  \\\n",
       " 0       0       0       0       0       0       0       0       0       0   \n",
       " 1       0       0       0       0       0       0       0       0       0   \n",
       " 2       0       0       0       0       0       0       0       0       0   \n",
       " 3       0       0       0       0       0       0       0       0       0   \n",
       " 4       0       0       0       0       0       0       0       0       0   \n",
       " \n",
       "    pixel9  ...  pixel774  pixel775  pixel776  pixel777  pixel778  pixel779  \\\n",
       " 0       0  ...         0         0         0         0         0         0   \n",
       " 1       0  ...         0         0         0         0         0         0   \n",
       " 2       0  ...         0         0         0         0         0         0   \n",
       " 3       0  ...         0         0         0         0         0         0   \n",
       " 4       0  ...         0         0         0         0         0         0   \n",
       " \n",
       "    pixel780  pixel781  pixel782  pixel783  \n",
       " 0         0         0         0         0  \n",
       " 1         0         0         0         0  \n",
       " 2         0         0         0         0  \n",
       " 3         0         0         0         0  \n",
       " 4         0         0         0         0  \n",
       " \n",
       " [5 rows x 784 columns])"
      ]
     },
     "execution_count": 2,
     "metadata": {},
     "output_type": "execute_result"
    }
   ],
   "source": [
    "train = pd.read_csv('.\\\\input\\\\train.csv')\n",
    "test = pd.read_csv('.\\\\input\\\\test.csv')\n",
    "train.head(), test.head()"
   ]
  },
  {
   "cell_type": "markdown",
   "metadata": {
    "papermill": {
     "duration": 0.007324,
     "end_time": "2020-09-04T04:47:34.083120",
     "exception": false,
     "start_time": "2020-09-04T04:47:34.075796",
     "status": "completed"
    },
    "tags": []
   },
   "source": [
    "> All the above data looks like garbage to us. We'll need to convert them to images."
   ]
  },
  {
   "cell_type": "code",
   "execution_count": 3,
   "metadata": {
    "execution": {
     "iopub.execute_input": "2020-09-04T04:47:34.101324Z",
     "iopub.status.busy": "2020-09-04T04:47:34.100305Z",
     "iopub.status.idle": "2020-09-04T04:47:34.104617Z",
     "shell.execute_reply": "2020-09-04T04:47:34.103969Z"
    },
    "papermill": {
     "duration": 0.01558,
     "end_time": "2020-09-04T04:47:34.104743",
     "exception": false,
     "start_time": "2020-09-04T04:47:34.089163",
     "status": "completed"
    },
    "tags": []
   },
   "outputs": [
    {
     "data": {
      "text/plain": [
       "(42000, 28000)"
      ]
     },
     "execution_count": 3,
     "metadata": {},
     "output_type": "execute_result"
    }
   ],
   "source": [
    "# train.shape[0] is the number of images in the training data, and test.shape[0] holds the number of images in the test data\n",
    "train.shape[0], test.shape[0]"
   ]
  },
  {
   "cell_type": "markdown",
   "metadata": {
    "papermill": {
     "duration": 0.005884,
     "end_time": "2020-09-04T04:47:34.117124",
     "exception": false,
     "start_time": "2020-09-04T04:47:34.111240",
     "status": "completed"
    },
    "tags": []
   },
   "source": [
    "# Converting the data in csv files to images\n",
    "> Let's convert our data from pixel values in csv to actual images\n",
    "\n",
    "Pytorch has it's own thing to handle data feeding to the neural network. We'll need to create a class and put in methods for data retrieval. I highly recommend using help(Dataset) to get some insight about what it can do. Will hardly take 2 minutes of your time. Do it."
   ]
  },
  {
   "cell_type": "code",
   "execution_count": 4,
   "metadata": {
    "execution": {
     "iopub.execute_input": "2020-09-04T04:47:34.139483Z",
     "iopub.status.busy": "2020-09-04T04:47:34.138540Z",
     "iopub.status.idle": "2020-09-04T04:47:34.141904Z",
     "shell.execute_reply": "2020-09-04T04:47:34.141345Z"
    },
    "papermill": {
     "duration": 0.0187,
     "end_time": "2020-09-04T04:47:34.142023",
     "exception": false,
     "start_time": "2020-09-04T04:47:34.123323",
     "status": "completed"
    },
    "tags": []
   },
   "outputs": [],
   "source": [
    "def to_tensor(data):\n",
    "    return [torch.FloatTensor(point) for point in data]\n",
    "\n",
    "class MNISTData(Dataset):\n",
    "    def __init__(self, df, X_col, Y_col=None):\n",
    "        \"\"\"\n",
    "        We're divding the values by 255 to normalize the dataset. \n",
    "        It speeds up training. Why 255? because that's the maximum value for a pixel\n",
    "        \"\"\"\n",
    "        self.features = df[X_col].values/255\n",
    "        self.features = self.features.reshape(len(self.features), 1, 28, 28)\n",
    "        self.targets = df[Y_col].values.reshape((-1, 1)) \n",
    "        # -1 indicates that the first dimension could be anything\n",
    "        \n",
    "    \"\"\"\n",
    "    To return the length of the dataset\n",
    "    \"\"\"\n",
    "    def __len__(self):\n",
    "        return len(self.targets)\n",
    "    \n",
    "    \"\"\"\n",
    "    This method will get data from the dataframe, based on the index values(idx)\n",
    "    \"\"\"\n",
    "    def __getitem__(self, idx):\n",
    "        return to_tensor([self.features[idx], self.targets[idx]])\n",
    "        \n",
    "        "
   ]
  },
  {
   "cell_type": "code",
   "execution_count": 5,
   "metadata": {
    "execution": {
     "iopub.execute_input": "2020-09-04T04:47:34.160577Z",
     "iopub.status.busy": "2020-09-04T04:47:34.159860Z",
     "iopub.status.idle": "2020-09-04T04:47:34.384923Z",
     "shell.execute_reply": "2020-09-04T04:47:34.384334Z"
    },
    "papermill": {
     "duration": 0.236606,
     "end_time": "2020-09-04T04:47:34.385047",
     "exception": false,
     "start_time": "2020-09-04T04:47:34.148441",
     "status": "completed"
    },
    "tags": []
   },
   "outputs": [
    {
     "data": {
      "text/html": [
       "<div>\n",
       "<style scoped>\n",
       "    .dataframe tbody tr th:only-of-type {\n",
       "        vertical-align: middle;\n",
       "    }\n",
       "\n",
       "    .dataframe tbody tr th {\n",
       "        vertical-align: top;\n",
       "    }\n",
       "\n",
       "    .dataframe thead th {\n",
       "        text-align: right;\n",
       "    }\n",
       "</style>\n",
       "<table border=\"1\" class=\"dataframe\">\n",
       "  <thead>\n",
       "    <tr style=\"text-align: right;\">\n",
       "      <th></th>\n",
       "      <th>label</th>\n",
       "      <th>pixel0</th>\n",
       "      <th>pixel1</th>\n",
       "      <th>pixel2</th>\n",
       "      <th>pixel3</th>\n",
       "      <th>pixel4</th>\n",
       "      <th>pixel5</th>\n",
       "      <th>pixel6</th>\n",
       "      <th>pixel7</th>\n",
       "      <th>pixel8</th>\n",
       "      <th>...</th>\n",
       "      <th>pixel774</th>\n",
       "      <th>pixel775</th>\n",
       "      <th>pixel776</th>\n",
       "      <th>pixel777</th>\n",
       "      <th>pixel778</th>\n",
       "      <th>pixel779</th>\n",
       "      <th>pixel780</th>\n",
       "      <th>pixel781</th>\n",
       "      <th>pixel782</th>\n",
       "      <th>pixel783</th>\n",
       "    </tr>\n",
       "  </thead>\n",
       "  <tbody>\n",
       "    <tr>\n",
       "      <th>0</th>\n",
       "      <td>0</td>\n",
       "      <td>0</td>\n",
       "      <td>0</td>\n",
       "      <td>0</td>\n",
       "      <td>0</td>\n",
       "      <td>0</td>\n",
       "      <td>0</td>\n",
       "      <td>0</td>\n",
       "      <td>0</td>\n",
       "      <td>0</td>\n",
       "      <td>...</td>\n",
       "      <td>0</td>\n",
       "      <td>0</td>\n",
       "      <td>0</td>\n",
       "      <td>0</td>\n",
       "      <td>0</td>\n",
       "      <td>0</td>\n",
       "      <td>0</td>\n",
       "      <td>0</td>\n",
       "      <td>0</td>\n",
       "      <td>0</td>\n",
       "    </tr>\n",
       "    <tr>\n",
       "      <th>1</th>\n",
       "      <td>0</td>\n",
       "      <td>0</td>\n",
       "      <td>0</td>\n",
       "      <td>0</td>\n",
       "      <td>0</td>\n",
       "      <td>0</td>\n",
       "      <td>0</td>\n",
       "      <td>0</td>\n",
       "      <td>0</td>\n",
       "      <td>0</td>\n",
       "      <td>...</td>\n",
       "      <td>0</td>\n",
       "      <td>0</td>\n",
       "      <td>0</td>\n",
       "      <td>0</td>\n",
       "      <td>0</td>\n",
       "      <td>0</td>\n",
       "      <td>0</td>\n",
       "      <td>0</td>\n",
       "      <td>0</td>\n",
       "      <td>0</td>\n",
       "    </tr>\n",
       "    <tr>\n",
       "      <th>2</th>\n",
       "      <td>3</td>\n",
       "      <td>0</td>\n",
       "      <td>0</td>\n",
       "      <td>0</td>\n",
       "      <td>0</td>\n",
       "      <td>0</td>\n",
       "      <td>0</td>\n",
       "      <td>0</td>\n",
       "      <td>0</td>\n",
       "      <td>0</td>\n",
       "      <td>...</td>\n",
       "      <td>0</td>\n",
       "      <td>0</td>\n",
       "      <td>0</td>\n",
       "      <td>0</td>\n",
       "      <td>0</td>\n",
       "      <td>0</td>\n",
       "      <td>0</td>\n",
       "      <td>0</td>\n",
       "      <td>0</td>\n",
       "      <td>0</td>\n",
       "    </tr>\n",
       "    <tr>\n",
       "      <th>3</th>\n",
       "      <td>5</td>\n",
       "      <td>0</td>\n",
       "      <td>0</td>\n",
       "      <td>0</td>\n",
       "      <td>0</td>\n",
       "      <td>0</td>\n",
       "      <td>0</td>\n",
       "      <td>0</td>\n",
       "      <td>0</td>\n",
       "      <td>0</td>\n",
       "      <td>...</td>\n",
       "      <td>0</td>\n",
       "      <td>0</td>\n",
       "      <td>0</td>\n",
       "      <td>0</td>\n",
       "      <td>0</td>\n",
       "      <td>0</td>\n",
       "      <td>0</td>\n",
       "      <td>0</td>\n",
       "      <td>0</td>\n",
       "      <td>0</td>\n",
       "    </tr>\n",
       "    <tr>\n",
       "      <th>4</th>\n",
       "      <td>7</td>\n",
       "      <td>0</td>\n",
       "      <td>0</td>\n",
       "      <td>0</td>\n",
       "      <td>0</td>\n",
       "      <td>0</td>\n",
       "      <td>0</td>\n",
       "      <td>0</td>\n",
       "      <td>0</td>\n",
       "      <td>0</td>\n",
       "      <td>...</td>\n",
       "      <td>0</td>\n",
       "      <td>0</td>\n",
       "      <td>0</td>\n",
       "      <td>0</td>\n",
       "      <td>0</td>\n",
       "      <td>0</td>\n",
       "      <td>0</td>\n",
       "      <td>0</td>\n",
       "      <td>0</td>\n",
       "      <td>0</td>\n",
       "    </tr>\n",
       "  </tbody>\n",
       "</table>\n",
       "<p>5 rows × 785 columns</p>\n",
       "</div>"
      ],
      "text/plain": [
       "   label  pixel0  pixel1  pixel2  pixel3  pixel4  pixel5  pixel6  pixel7  \\\n",
       "0      0       0       0       0       0       0       0       0       0   \n",
       "1      0       0       0       0       0       0       0       0       0   \n",
       "2      3       0       0       0       0       0       0       0       0   \n",
       "3      5       0       0       0       0       0       0       0       0   \n",
       "4      7       0       0       0       0       0       0       0       0   \n",
       "\n",
       "   pixel8  ...  pixel774  pixel775  pixel776  pixel777  pixel778  pixel779  \\\n",
       "0       0  ...         0         0         0         0         0         0   \n",
       "1       0  ...         0         0         0         0         0         0   \n",
       "2       0  ...         0         0         0         0         0         0   \n",
       "3       0  ...         0         0         0         0         0         0   \n",
       "4       0  ...         0         0         0         0         0         0   \n",
       "\n",
       "   pixel780  pixel781  pixel782  pixel783  \n",
       "0         0         0         0         0  \n",
       "1         0         0         0         0  \n",
       "2         0         0         0         0  \n",
       "3         0         0         0         0  \n",
       "4         0         0         0         0  \n",
       "\n",
       "[5 rows x 785 columns]"
      ]
     },
     "execution_count": 5,
     "metadata": {},
     "output_type": "execute_result"
    }
   ],
   "source": [
    "# We'll split our data into 90% training and 10% test data \n",
    "split = int(0.9 * len(train))\n",
    "valid_data = train[split:].reset_index(drop=True)\n",
    "train_data = train[:split].reset_index(drop=True)\n",
    "valid_data.head()"
   ]
  },
  {
   "cell_type": "code",
   "execution_count": 6,
   "metadata": {
    "execution": {
     "iopub.execute_input": "2020-09-04T04:47:34.599648Z",
     "iopub.status.busy": "2020-09-04T04:47:34.409370Z",
     "iopub.status.idle": "2020-09-04T04:47:35.059169Z",
     "shell.execute_reply": "2020-09-04T04:47:35.058466Z"
    },
    "papermill": {
     "duration": 0.66741,
     "end_time": "2020-09-04T04:47:35.059325",
     "exception": false,
     "start_time": "2020-09-04T04:47:34.391915",
     "status": "completed"
    },
    "tags": []
   },
   "outputs": [
    {
     "data": {
      "image/png": "[encoded data removed]",
      "text/plain": [
       "<Figure size 432x288 with 1 Axes>"
      ]
     },
     "metadata": {
      "needs_background": "light"
     },
     "output_type": "display_data"
    }
   ],
   "source": [
    "# Getting features of the image (pixel 0-783, 784 pixels in total for a 28*28 image)\n",
    "X_col = list(train.columns[1:])\n",
    "y_col = \"label\"\n",
    "\n",
    "train_set = MNISTData(train_data, X_col, y_col)\n",
    "valid_set = MNISTData(valid_data, X_col, y_col)\n",
    "\n",
    "train_loader = DataLoader(train_set, batch_size=64, shuffle=True)\n",
    "valid_loader = DataLoader(valid_set, batch_size=64, shuffle=True)\n",
    "\n",
    "for data in train_loader:\n",
    "    X_train, y_train = data\n",
    "    fig = plt.figure()\n",
    "    plt.imshow(X_train[0].reshape(28, 28), cmap='gray')\n",
    "    break"
   ]
  },
  {
   "cell_type": "markdown",
   "metadata": {
    "papermill": {
     "duration": 0.006762,
     "end_time": "2020-09-04T04:47:35.073647",
     "exception": false,
     "start_time": "2020-09-04T04:47:35.066885",
     "status": "completed"
    },
    "tags": []
   },
   "source": [
    "# Making a Dummy Neural Network\n",
    "> So we're gonna define a model with 2 convolutional layers and 2 Fully Connected layers. The thing with pytorch is, we gotta know the dimensions of our data, at the end of our convolutional layers, to be able to connect them to the fully connected layers. So we're just gonna define a dummy model with our convolutional layers,and check the dimensions of the last convolutional layer. Once we know that, we'll define our original model with all the dimensions in place "
   ]
  },
  {
   "cell_type": "code",
   "execution_count": 7,
   "metadata": {
    "execution": {
     "iopub.execute_input": "2020-09-04T04:47:35.097598Z",
     "iopub.status.busy": "2020-09-04T04:47:35.096736Z",
     "iopub.status.idle": "2020-09-04T04:47:35.099816Z",
     "shell.execute_reply": "2020-09-04T04:47:35.099171Z"
    },
    "papermill": {
     "duration": 0.019682,
     "end_time": "2020-09-04T04:47:35.099936",
     "exception": false,
     "start_time": "2020-09-04T04:47:35.080254",
     "status": "completed"
    },
    "tags": []
   },
   "outputs": [],
   "source": [
    "class dummyModel(nn.Module):\n",
    "    def __init__(self):\n",
    "        super(dummyModel, self).__init__()\n",
    "        \n",
    "        \"\"\"\n",
    "        In layer 1, which is a convolutional layer, input channels will be 1, \n",
    "        since our data consists of graycale images.\n",
    "        \n",
    "        out_channels is the number of filters, of size 3(kernel_size). \n",
    "        out_channels can be whatever we want, so I'm gonna select 4.\n",
    "        \n",
    "        stride is the number of steps that a filter jumps, from it's previous position.\n",
    "        \n",
    "        padding is the number of pixels added to both sides of the input data(image), for each dimension.\n",
    "        Padding mode is the value of the padding pixels.\n",
    "        \"\"\"\n",
    "        self.layer1 = nn.Sequential(\n",
    "            nn.Conv2d(in_channels=1, out_channels=4, kernel_size=3, stride=1, padding=1, padding_mode='replicate'),\n",
    "            nn.ReLU(),\n",
    "            nn.MaxPool2d(kernel_size=2, stride=2))\n",
    "        \n",
    "        #Layer 2\n",
    "        self.layer2 = nn.Sequential(\n",
    "            nn.Conv2d(in_channels=4, out_channels=8, kernel_size=3, stride=1, padding=1, padding_mode='replicate'),\n",
    "            nn.ReLU(),\n",
    "            nn.MaxPool2d(kernel_size=2, stride=2))\n",
    "        self.drop_out = nn.Dropout()\n",
    "        \n",
    "        #Layer 3\n",
    "        # FC layer\n",
    "        \n",
    "        \n",
    "    def forward(self, x):\n",
    "        x = self.layer1(x)\n",
    "        x = self.layer2(x)\n",
    "        return x\n",
    "        \n",
    "        "
   ]
  },
  {
   "cell_type": "markdown",
   "metadata": {
    "papermill": {
     "duration": 0.006693,
     "end_time": "2020-09-04T04:47:35.113449",
     "exception": false,
     "start_time": "2020-09-04T04:47:35.106756",
     "status": "completed"
    },
    "tags": []
   },
   "source": [
    "# Training our (Dummy) Convolutional Neural Network"
   ]
  },
  {
   "cell_type": "code",
   "execution_count": 8,
   "metadata": {
    "execution": {
     "iopub.execute_input": "2020-09-04T04:47:35.136845Z",
     "iopub.status.busy": "2020-09-04T04:47:35.136163Z",
     "iopub.status.idle": "2020-09-04T04:47:35.216211Z",
     "shell.execute_reply": "2020-09-04T04:47:35.215448Z"
    },
    "papermill": {
     "duration": 0.096229,
     "end_time": "2020-09-04T04:47:35.216351",
     "exception": false,
     "start_time": "2020-09-04T04:47:35.120122",
     "status": "completed"
    },
    "tags": []
   },
   "outputs": [
    {
     "name": "stdout",
     "output_type": "stream",
     "text": [
      "dummyModel(\n",
      "  (layer1): Sequential(\n",
      "    (0): Conv2d(1, 4, kernel_size=(3, 3), stride=(1, 1), padding=(1, 1), padding_mode=replicate)\n",
      "    (1): ReLU()\n",
      "    (2): MaxPool2d(kernel_size=2, stride=2, padding=0, dilation=1, ceil_mode=False)\n",
      "  )\n",
      "  (layer2): Sequential(\n",
      "    (0): Conv2d(4, 8, kernel_size=(3, 3), stride=(1, 1), padding=(1, 1), padding_mode=replicate)\n",
      "    (1): ReLU()\n",
      "    (2): MaxPool2d(kernel_size=2, stride=2, padding=0, dilation=1, ceil_mode=False)\n",
      "  )\n",
      "  (drop_out): Dropout(p=0.5, inplace=False)\n",
      ")\n",
      "torch.Size([64, 8, 7, 7])\n",
      "torch.Size([64, 392])\n"
     ]
    }
   ],
   "source": [
    "network = dummyModel()\n",
    "print(network)\n",
    "num_epochs = 5\n",
    "for epoch in range(num_epochs):\n",
    "    for train_batch in train_loader:\n",
    "        train_X, train_y = train_batch\n",
    "        # train_X = train_X.reshape(len(train_X), 1, 28, 28)\n",
    "        outputs = network.forward(train_X)\n",
    "        # To check dimensions of our tensor\n",
    "        op = outputs.flatten(start_dim=1, end_dim=-1)\n",
    "        break\n",
    "print(outputs.shape)\n",
    "print(op.shape)\n",
    "        \n",
    "        \n",
    "        "
   ]
  },
  {
   "cell_type": "markdown",
   "metadata": {
    "papermill": {
     "duration": 0.008744,
     "end_time": "2020-09-04T04:47:35.234332",
     "exception": false,
     "start_time": "2020-09-04T04:47:35.225588",
     "status": "completed"
    },
    "tags": []
   },
   "source": [
    "Our Tensor is in the shape  $(N, C, H, W)$,  where\n",
    "  * $N$ = batch size\n",
    "  * $C$ = Number of channels\n",
    "  * $H$ = Height of the image\n",
    "  * $W$ = Width of the image\n",
    "  \n",
    "![](http://)Hence, we flatten it to $(N, F)$, where\n",
    "* $N$ = batch size\n",
    "* $F=C*H*W$\n",
    "\n",
    "> So we need 392 neurons in the first FC layer after our convolutional layers? Noted.\n",
    "How did we get 392? simple, $8*7*7$"
   ]
  },
  {
   "cell_type": "markdown",
   "metadata": {
    "papermill": {
     "duration": 0.008204,
     "end_time": "2020-09-04T04:47:35.251954",
     "exception": false,
     "start_time": "2020-09-04T04:47:35.243750",
     "status": "completed"
    },
    "tags": []
   },
   "source": [
    "# Creating our Model for training\n",
    "> Playtime is over, let's get down to business"
   ]
  },
  {
   "cell_type": "code",
   "execution_count": 9,
   "metadata": {
    "execution": {
     "iopub.execute_input": "2020-09-04T04:47:35.279822Z",
     "iopub.status.busy": "2020-09-04T04:47:35.278912Z",
     "iopub.status.idle": "2020-09-04T04:47:35.281857Z",
     "shell.execute_reply": "2020-09-04T04:47:35.282428Z"
    },
    "papermill": {
     "duration": 0.023062,
     "end_time": "2020-09-04T04:47:35.282626",
     "exception": false,
     "start_time": "2020-09-04T04:47:35.259564",
     "status": "completed"
    },
    "tags": []
   },
   "outputs": [],
   "source": [
    "class model(nn.Module):\n",
    "    def __init__(self):\n",
    "        super(model, self).__init__()\n",
    "        self.conv1 = nn.Sequential(\n",
    "            nn.Conv2d(in_channels=1, out_channels=4, kernel_size=3, stride=1, padding=1, padding_mode='replicate'),\n",
    "            nn.ReLU(),\n",
    "            nn.MaxPool2d(kernel_size=2, stride=2),\n",
    "            nn.BatchNorm2d(4))\n",
    "\n",
    "        self.conv2 = nn.Sequential(\n",
    "            nn.Conv2d(in_channels=4, out_channels=8, kernel_size=3, stride=1, padding=1, padding_mode='replicate'),\n",
    "            nn.ReLU(),\n",
    "            nn.MaxPool2d(kernel_size=2, stride=2),\n",
    "            nn.BatchNorm2d(8))\n",
    "\n",
    "        self.fc1 = nn.Sequential(\n",
    "            nn.Linear(392, 128),\n",
    "            nn.Dropout(0.5),\n",
    "            nn.ReLU(),\n",
    "            nn.BatchNorm1d(128))\n",
    "\n",
    "        self.fc2 = nn.Sequential(\n",
    "            nn.Linear(128, 10))\n",
    "            \n",
    "    def forward(self, inputs):\n",
    "        x = self.conv1(inputs)\n",
    "        # print(f\"After conv1, dimensions are: {x.shape}\")\n",
    "        x = self.conv2(x)\n",
    "        # print(f\"After conv2, dimensions are: {x.shape}\")\n",
    "        # Flattening the image\n",
    "        x = x.flatten(start_dim=1, end_dim=-1)\n",
    "        x = self.fc1(x)\n",
    "        # print(f\"After fc1, dimensions are: {x.shape}\")\n",
    "        x = self.fc2(x)\n",
    "        x = nn.LogSoftmax(dim=1)(x)\n",
    "        # print(f\"After fc2, dimensions are: {x.shape}\")\n",
    "        return x"
   ]
  },
  {
   "cell_type": "markdown",
   "metadata": {
    "papermill": {
     "duration": 0.008121,
     "end_time": "2020-09-04T04:47:35.300672",
     "exception": false,
     "start_time": "2020-09-04T04:47:35.292551",
     "status": "completed"
    },
    "tags": []
   },
   "source": [
    "# Training our Neural Network"
   ]
  },
  {
   "cell_type": "code",
   "execution_count": 10,
   "metadata": {
    "execution": {
     "iopub.execute_input": "2020-09-04T04:47:35.320860Z",
     "iopub.status.busy": "2020-09-04T04:47:35.320125Z",
     "iopub.status.idle": "2020-09-04T04:47:35.323665Z",
     "shell.execute_reply": "2020-09-04T04:47:35.322987Z"
    },
    "papermill": {
     "duration": 0.016164,
     "end_time": "2020-09-04T04:47:35.323792",
     "exception": false,
     "start_time": "2020-09-04T04:47:35.307628",
     "status": "completed"
    },
    "tags": []
   },
   "outputs": [],
   "source": [
    "# Before we start training our neural network, we'll define our accuracy function\n",
    "def acc(y_true, y_pred):\n",
    "    y_true = y_true.long().squeeze()\n",
    "    y_pred = torch.argmax(y_pred, axis=1)\n",
    "    return (y_true==y_pred).float().sum()/len(y_true)"
   ]
  },
  {
   "cell_type": "code",
   "execution_count": 11,
   "metadata": {
    "execution": {
     "iopub.execute_input": "2020-09-04T04:47:35.349406Z",
     "iopub.status.busy": "2020-09-04T04:47:35.348544Z",
     "iopub.status.idle": "2020-09-04T04:48:45.215548Z",
     "shell.execute_reply": "2020-09-04T04:48:45.214474Z"
    },
    "papermill": {
     "duration": 69.884545,
     "end_time": "2020-09-04T04:48:45.215708",
     "exception": false,
     "start_time": "2020-09-04T04:47:35.331163",
     "status": "completed"
    },
    "tags": []
   },
   "outputs": [
    {
     "name": "stdout",
     "output_type": "stream",
     "text": [
      "----------------------------------------------------------------------------------------------\n",
      "Yo, this is epoch number 1\n",
      "Training Accuracy: 0.9750\tTraining Loss:0.0983\n",
      "Validation Accuracy: 0.9250\tValidation Loss: 0.2492\n",
      "----------------------------------------------------------------------------------------------\n",
      "Yo, this is epoch number 2\n",
      "Training Accuracy: 0.9500\tTraining Loss:0.0960\n",
      "Validation Accuracy: 1.0000\tValidation Loss: 0.0316\n"
     ]
    }
   ],
   "source": [
    "network = model()\n",
    "# Loss and optimizer\n",
    "criterion = nn.CrossEntropyLoss()\n",
    "optimizer = torch.optim.Adam(network.parameters())\n",
    "loss = []\n",
    "accuracy = []\n",
    "num_epochs = 2\n",
    "for i in range(1, num_epochs+1):\n",
    "    for data in train_loader:\n",
    "        batch_X, batch_Y = data\n",
    "        batch_prediction = network.forward(batch_X)\n",
    "        #print(batch_prediction[0])\n",
    "        \n",
    "        batch_Y = batch_Y.long().squeeze()\n",
    "        #print(f\"Y_Pred Dimensions: {batch_Y.shape}\\tPrediction Dimensions:{batch_prediction.shape}\")\n",
    "        batch_loss = criterion(batch_prediction, batch_Y)\n",
    "        batch_acc = acc(batch_Y, batch_prediction)\n",
    "    \n",
    "        optimizer.zero_grad()\n",
    "        batch_loss.backward()\n",
    "        optimizer.step()\n",
    "        \n",
    "        loss.append(batch_loss)\n",
    "        accuracy.append(batch_acc)\n",
    "    with torch.no_grad():\n",
    "        for valid_batch in valid_loader:\n",
    "            valid_X, valid_Y = valid_batch\n",
    "            valid_Y = valid_Y.long().squeeze()\n",
    "            valid_prediction = network.forward(valid_X)\n",
    "            valid_loss = criterion(valid_prediction, valid_Y)\n",
    "            valid_acc = acc(valid_Y, valid_prediction)\n",
    "    print(\"----------------------------------------------------------------------------------------------\")  \n",
    "    print(f\"Yo, this is epoch number {i}\")\n",
    "    print(f\"Training Accuracy: {batch_acc:.4f}\\tTraining Loss:{batch_loss:.4f}\\nValidation Accuracy: {valid_acc:.4f}\\tValidation Loss: {valid_loss:.4f}\")"
   ]
  },
  {
   "cell_type": "markdown",
   "metadata": {
    "papermill": {
     "duration": 0.006848,
     "end_time": "2020-09-04T04:48:45.244183",
     "exception": false,
     "start_time": "2020-09-04T04:48:45.237335",
     "status": "completed"
    },
    "tags": []
   },
   "source": [
    "# Let's make Predictions"
   ]
  },
  {
   "cell_type": "code",
   "execution_count": 12,
   "metadata": {
    "execution": {
     "iopub.execute_input": "2020-09-04T04:48:45.281702Z",
     "iopub.status.busy": "2020-09-04T04:48:45.267724Z",
     "iopub.status.idle": "2020-09-04T04:48:47.832411Z",
     "shell.execute_reply": "2020-09-04T04:48:47.831232Z"
    },
    "papermill": {
     "duration": 2.58128,
     "end_time": "2020-09-04T04:48:47.832584",
     "exception": false,
     "start_time": "2020-09-04T04:48:45.251304",
     "status": "completed"
    },
    "tags": []
   },
   "outputs": [
    {
     "name": "stderr",
     "output_type": "stream",
     "text": [
      "100%|██████████████████████████████████████████████████████████████████████████████████| 28/28 [00:06<00:00,  4.57it/s]\n"
     ]
    }
   ],
   "source": [
    "# Gotta prepare the test set first\n",
    "test[y_col] = [-1]*len(test)\n",
    "\n",
    "test_set = MNISTData(test, X_col, y_col)\n",
    "test_loader = tqdm(DataLoader(test_set, batch_size=1024, shuffle=False))\n",
    "test_pred = []\n",
    "with torch.no_grad():\n",
    "    for test_X, _ in test_loader:\n",
    "        pred = network.forward(test_X)\n",
    "        test_pred.extend(np.argmax(pred, axis=1))"
   ]
  },
  {
   "cell_type": "code",
   "execution_count": 13,
   "metadata": {
    "execution": {
     "iopub.execute_input": "2020-09-04T04:48:47.874560Z",
     "iopub.status.busy": "2020-09-04T04:48:47.873526Z",
     "iopub.status.idle": "2020-09-04T04:48:49.078158Z",
     "shell.execute_reply": "2020-09-04T04:48:49.078632Z"
    },
    "papermill": {
     "duration": 1.220945,
     "end_time": "2020-09-04T04:48:49.078809",
     "exception": false,
     "start_time": "2020-09-04T04:48:47.857864",
     "status": "completed"
    },
    "tags": []
   },
   "outputs": [
    {
     "data": {
      "image/png": "[encoded data removed]",
      "text/plain": [
       "<Figure size 1080x1080 with 36 Axes>"
      ]
     },
     "metadata": {
      "needs_background": "light"
     },
     "output_type": "display_data"
    }
   ],
   "source": [
    "test_X, _ = next(iter(test_loader))\n",
    "test_X = test_X[:36]\n",
    "fig, ax = plt.subplots(nrows=6, ncols=6, figsize=(15, 15))\n",
    "\n",
    "for i, image in enumerate(test_X):\n",
    "    image = image.reshape(28, 28)\n",
    "    ax[i//6][i%6].axis('off')\n",
    "    ax[i//6][i%6].imshow(image, cmap='gray')\n",
    "    ax[i//6][i%6].set_title(test_pred[i].item(), fontsize=20, color='blue')"
   ]
  },
  {
   "cell_type": "code",
   "execution_count": 14,
   "metadata": {
    "execution": {
     "iopub.execute_input": "2020-09-04T04:48:49.120985Z",
     "iopub.status.busy": "2020-09-04T04:48:49.120319Z",
     "iopub.status.idle": "2020-09-04T04:48:49.165669Z",
     "shell.execute_reply": "2020-09-04T04:48:49.166113Z"
    },
    "papermill": {
     "duration": 0.061638,
     "end_time": "2020-09-04T04:48:49.166288",
     "exception": false,
     "start_time": "2020-09-04T04:48:49.104650",
     "status": "completed"
    },
    "tags": []
   },
   "outputs": [
    {
     "data": {
      "text/html": [
       "<div>\n",
       "<style scoped>\n",
       "    .dataframe tbody tr th:only-of-type {\n",
       "        vertical-align: middle;\n",
       "    }\n",
       "\n",
       "    .dataframe tbody tr th {\n",
       "        vertical-align: top;\n",
       "    }\n",
       "\n",
       "    .dataframe thead th {\n",
       "        text-align: right;\n",
       "    }\n",
       "</style>\n",
       "<table border=\"1\" class=\"dataframe\">\n",
       "  <thead>\n",
       "    <tr style=\"text-align: right;\">\n",
       "      <th></th>\n",
       "      <th>ImageId</th>\n",
       "      <th>Label</th>\n",
       "    </tr>\n",
       "  </thead>\n",
       "  <tbody>\n",
       "    <tr>\n",
       "      <th>0</th>\n",
       "      <td>1</td>\n",
       "      <td>2</td>\n",
       "    </tr>\n",
       "    <tr>\n",
       "      <th>1</th>\n",
       "      <td>2</td>\n",
       "      <td>0</td>\n",
       "    </tr>\n",
       "    <tr>\n",
       "      <th>2</th>\n",
       "      <td>3</td>\n",
       "      <td>9</td>\n",
       "    </tr>\n",
       "    <tr>\n",
       "      <th>3</th>\n",
       "      <td>4</td>\n",
       "      <td>9</td>\n",
       "    </tr>\n",
       "    <tr>\n",
       "      <th>4</th>\n",
       "      <td>5</td>\n",
       "      <td>3</td>\n",
       "    </tr>\n",
       "  </tbody>\n",
       "</table>\n",
       "</div>"
      ],
      "text/plain": [
       "   ImageId  Label\n",
       "0        1      2\n",
       "1        2      0\n",
       "2        3      9\n",
       "3        4      9\n",
       "4        5      3"
      ]
     },
     "execution_count": 14,
     "metadata": {},
     "output_type": "execute_result"
    }
   ],
   "source": [
    "submissions = pd.read_csv('.\\\\input\\\\sample_submission.csv')\n",
    "labels = [x.item() for x in test_pred]\n",
    "submissions[\"Label\"] = labels\n",
    "submissions.head()"
   ]
  },
  {
   "cell_type": "code",
   "execution_count": 15,
   "metadata": {
    "execution": {
     "iopub.execute_input": "2020-09-04T04:48:49.189699Z",
     "iopub.status.busy": "2020-09-04T04:48:49.189011Z",
     "iopub.status.idle": "2020-09-04T04:48:49.456622Z",
     "shell.execute_reply": "2020-09-04T04:48:49.455591Z"
    },
    "papermill": {
     "duration": 0.281391,
     "end_time": "2020-09-04T04:48:49.456810",
     "exception": false,
     "start_time": "2020-09-04T04:48:49.175419",
     "status": "completed"
    },
    "tags": []
   },
   "outputs": [],
   "source": [
    "submissions.to_csv(\"submission.csv\", index=False)"
   ]
  },
  {
   "cell_type": "code",
   "execution_count": null,
   "metadata": {},
   "outputs": [],
   "source": []
  },
  {
   "cell_type": "code",
   "execution_count": null,
   "metadata": {},
   "outputs": [],
   "source": []
  },
  {
   "cell_type": "code",
   "execution_count": null,
   "metadata": {},
   "outputs": [],
   "source": []
  },
  {
   "cell_type": "code",
   "execution_count": null,
   "metadata": {},
   "outputs": [],
   "source": [
    "# Source: https://www.kaggle.com/code/techpy/mnist-with-pytorch-cnn"
   ]
  }
 ],
 "metadata": {
  "kernelspec": {
   "display_name": "Python 3",
   "language": "python",
   "name": "python3"
  },
  "language_info": {
   "codemirror_mode": {
    "name": "ipython",
    "version": 3
   },
   "file_extension": ".py",
   "mimetype": "text/x-python",
   "name": "python",
   "nbconvert_exporter": "python",
   "pygments_lexer": "ipython3",
   "version": "3.8.8"
  },
  "papermill": {
   "duration": 86.982907,
   "end_time": "2020-09-04T04:48:50.652273",
   "environment_variables": {},
   "exception": null,
   "input_path": "__notebook__.ipynb",
   "output_path": "__notebook__.ipynb",
   "parameters": {},
   "start_time": "2020-09-04T04:47:23.669366",
   "version": "2.1.0"
  }
 },
 "nbformat": 4,
 "nbformat_minor": 4
}
