{
 "cells": [
  {
   "cell_type": "markdown",
   "id": "04c30496",
   "metadata": {},
   "source": [
    "Step 1: Import Required Libraries\n",
    "First, we need to import the required libraries for implementing the KNN algorithm. In this tutorial, we will use NumPy for numerical computations and Pandas for data manipulation"
   ]
  },
  {
   "cell_type": "code",
   "execution_count": 1,
   "id": "642d9f36",
   "metadata": {},
   "outputs": [],
   "source": [
    "import numpy as np\n",
    "import pandas as pd"
   ]
  },
  {
   "cell_type": "markdown",
   "id": "65831791",
   "metadata": {},
   "source": [
    "Step 2: Load the Dataset\n",
    "Next, we need to load the dataset into a Pandas DataFrame. In this example, we will use the famous Iris dataset, which contains information about the sepal length, sepal width, petal length, and petal width of three different types of iris flowers."
   ]
  },
  {
   "cell_type": "code",
   "execution_count": 2,
   "id": "465158eb",
   "metadata": {},
   "outputs": [],
   "source": [
    "df = pd.read_csv('https://archive.ics.uci.edu/ml/machine-learning-databases/iris/iris.data', header=None, names=['sepal length', 'sepal width', 'petal length', 'petal width', 'class'])\n"
   ]
  },
  {
   "cell_type": "markdown",
   "id": "ac35be4f",
   "metadata": {},
   "source": [
    "Step 3: Split the Dataset into Training and Test Sets\n",
    "We need to split the dataset into a training set and a test set. In this example, we will use 70% of the data for training and 30% for testing."
   ]
  },
  {
   "cell_type": "code",
   "execution_count": 3,
   "id": "c871d9cf",
   "metadata": {},
   "outputs": [],
   "source": [
    "from sklearn.model_selection import train_test_split\n",
    "\n",
    "X = df.iloc[:, :-1].values\n",
    "y = df.iloc[:, -1].values\n",
    "\n",
    "X_train, X_test, y_train, y_test = train_test_split(X, y, test_size=0.3, random_state=1, stratify=y)\n"
   ]
  },
  {
   "cell_type": "markdown",
   "id": "abadfb4b",
   "metadata": {},
   "source": [
    "Step 4: Normalize the Data\n",
    "Next, we need to normalize the data to ensure that all features have the same scale. In this example, we will use the Min-Max scaling method to normalize the data."
   ]
  },
  {
   "cell_type": "code",
   "execution_count": 4,
   "id": "63a657e7",
   "metadata": {},
   "outputs": [],
   "source": [
    "from sklearn.preprocessing import MinMaxScaler\n",
    "\n",
    "scaler = MinMaxScaler()\n",
    "X_train = scaler.fit_transform(X_train)\n",
    "X_test = scaler.transform(X_test)"
   ]
  },
  {
   "cell_type": "markdown",
   "id": "73b56f7c",
   "metadata": {},
   "source": [
    "Step 5: Implement the KNN Algorithm\n",
    "Now we can implement the KNN algorithm using scikit-learn. We will use the KNeighborsClassifier class, which takes two parameters: the number of neighbors (k) and the distance metric (we will use Euclidean distance)."
   ]
  },
  {
   "cell_type": "code",
   "execution_count": 5,
   "id": "a06dec2c",
   "metadata": {},
   "outputs": [
    {
     "data": {
      "text/plain": [
       "KNeighborsClassifier(metric='euclidean')"
      ]
     },
     "execution_count": 5,
     "metadata": {},
     "output_type": "execute_result"
    }
   ],
   "source": [
    "from sklearn.neighbors import KNeighborsClassifier\n",
    "\n",
    "k = 5\n",
    "metric = 'euclidean'\n",
    "\n",
    "knn = KNeighborsClassifier(n_neighbors=k, metric=metric)\n",
    "knn.fit(X_train, y_train)"
   ]
  },
  {
   "cell_type": "markdown",
   "id": "fc87d8c1",
   "metadata": {},
   "source": [
    "Step 6: Evaluate the Model\n",
    "Finally, we need to evaluate the performance of the model on the test set. We will use the accuracy score as the performance metric."
   ]
  },
  {
   "cell_type": "code",
   "execution_count": 7,
   "id": "356816e2",
   "metadata": {},
   "outputs": [
    {
     "name": "stdout",
     "output_type": "stream",
     "text": [
      "Accuracy: 0.9777777777777777\n"
     ]
    }
   ],
   "source": [
    "from sklearn.metrics import accuracy_score\n",
    "\n",
    "y_pred = knn.predict(X_test)\n",
    "accuracy = accuracy_score(y_test, y_pred)\n",
    "\n",
    "print('Accuracy:', accuracy)\n"
   ]
  },
  {
   "cell_type": "markdown",
   "id": "1e12dc80",
   "metadata": {},
   "source": [
    "That's it! You have successfully implemented the KNN algorithm in Python. Here's the complete code:"
   ]
  },
  {
   "cell_type": "code",
   "execution_count": null,
   "id": "583bbc3a",
   "metadata": {},
   "outputs": [],
   "source": []
  },
  {
   "cell_type": "code",
   "execution_count": null,
   "id": "eeba3433",
   "metadata": {},
   "outputs": [],
   "source": []
  },
  {
   "cell_type": "code",
   "execution_count": null,
   "id": "3d1734ff",
   "metadata": {},
   "outputs": [],
   "source": []
  }
 ],
 "metadata": {
  "kernelspec": {
   "display_name": "Python 3 (ipykernel)",
   "language": "python",
   "name": "python3"
  },
  "language_info": {
   "codemirror_mode": {
    "name": "ipython",
    "version": 3
   },
   "file_extension": ".py",
   "mimetype": "text/x-python",
   "name": "python",
   "nbconvert_exporter": "python",
   "pygments_lexer": "ipython3",
   "version": "3.9.6"
  }
 },
 "nbformat": 4,
 "nbformat_minor": 5
}
