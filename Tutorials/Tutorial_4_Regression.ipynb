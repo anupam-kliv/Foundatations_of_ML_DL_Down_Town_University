{
 "cells": [
  {
   "cell_type": "markdown",
   "metadata": {
    "id": "lEsGMa6-KGwG"
   },
   "source": [
    "## **Linear Regression**"
   ]
  },
  {
   "cell_type": "code",
   "execution_count": 1,
   "metadata": {
    "executionInfo": {
     "elapsed": 1773,
     "status": "ok",
     "timestamp": 1662022680029,
     "user": {
      "displayName": "Raj krishan Ghosh",
      "userId": "08394546989760083469"
     },
     "user_tz": -330
    },
    "id": "1tT7lUo2JCCm"
   },
   "outputs": [],
   "source": [
    "# basic imports\n",
    "\n",
    "import pandas as pd\n",
    "import numpy as np\n",
    "import matplotlib.pyplot as plt\n",
    "\n",
    "# imports for splitting into training and testing set\n",
    "\n",
    "from sklearn.model_selection import train_test_split\n",
    "\n",
    "# imports for linear\n",
    "\n",
    "from sklearn.linear_model import LinearRegression"
   ]
  },
  {
   "cell_type": "code",
   "execution_count": 3,
   "metadata": {
    "colab": {
     "base_uri": "https://localhost:8080/"
    },
    "executionInfo": {
     "elapsed": 8,
     "status": "ok",
     "timestamp": 1662022683759,
     "user": {
      "displayName": "Raj krishan Ghosh",
      "userId": "08394546989760083469"
     },
     "user_tz": -330
    },
    "id": "H7_BfsaAJCCp",
    "outputId": "787b59c6-f1ae-46df-b3ab-ea828d7c8199"
   },
   "outputs": [],
   "source": [
    "# import Boston housing dataset which is an inbuilt dataset of scikit learn\n",
    "\n",
    "from sklearn.datasets import load_boston\n",
    "boston=load_boston()\n",
    "#boston"
   ]
  },
  {
   "cell_type": "code",
   "execution_count": 4,
   "metadata": {
    "colab": {
     "base_uri": "https://localhost:8080/",
     "height": 424
    },
    "executionInfo": {
     "elapsed": 1330,
     "status": "ok",
     "timestamp": 1662022690010,
     "user": {
      "displayName": "Raj krishan Ghosh",
      "userId": "08394546989760083469"
     },
     "user_tz": -330
    },
    "id": "yMt1lWQgJCCq",
    "outputId": "ae0dda55-4e88-47ab-be19-5b01be32f787"
   },
   "outputs": [
    {
     "data": {
      "text/html": [
       "<div>\n",
       "<style scoped>\n",
       "    .dataframe tbody tr th:only-of-type {\n",
       "        vertical-align: middle;\n",
       "    }\n",
       "\n",
       "    .dataframe tbody tr th {\n",
       "        vertical-align: top;\n",
       "    }\n",
       "\n",
       "    .dataframe thead th {\n",
       "        text-align: right;\n",
       "    }\n",
       "</style>\n",
       "<table border=\"1\" class=\"dataframe\">\n",
       "  <thead>\n",
       "    <tr style=\"text-align: right;\">\n",
       "      <th></th>\n",
       "      <th>CRIM</th>\n",
       "      <th>ZN</th>\n",
       "      <th>INDUS</th>\n",
       "      <th>CHAS</th>\n",
       "      <th>NOX</th>\n",
       "      <th>RM</th>\n",
       "      <th>AGE</th>\n",
       "      <th>DIS</th>\n",
       "      <th>RAD</th>\n",
       "      <th>TAX</th>\n",
       "      <th>PTRATIO</th>\n",
       "      <th>B</th>\n",
       "      <th>LSTAT</th>\n",
       "      <th>target</th>\n",
       "    </tr>\n",
       "  </thead>\n",
       "  <tbody>\n",
       "    <tr>\n",
       "      <th>0</th>\n",
       "      <td>0.00632</td>\n",
       "      <td>18.0</td>\n",
       "      <td>2.31</td>\n",
       "      <td>0.0</td>\n",
       "      <td>0.538</td>\n",
       "      <td>6.575</td>\n",
       "      <td>65.2</td>\n",
       "      <td>4.0900</td>\n",
       "      <td>1.0</td>\n",
       "      <td>296.0</td>\n",
       "      <td>15.3</td>\n",
       "      <td>396.90</td>\n",
       "      <td>4.98</td>\n",
       "      <td>24.0</td>\n",
       "    </tr>\n",
       "    <tr>\n",
       "      <th>1</th>\n",
       "      <td>0.02731</td>\n",
       "      <td>0.0</td>\n",
       "      <td>7.07</td>\n",
       "      <td>0.0</td>\n",
       "      <td>0.469</td>\n",
       "      <td>6.421</td>\n",
       "      <td>78.9</td>\n",
       "      <td>4.9671</td>\n",
       "      <td>2.0</td>\n",
       "      <td>242.0</td>\n",
       "      <td>17.8</td>\n",
       "      <td>396.90</td>\n",
       "      <td>9.14</td>\n",
       "      <td>21.6</td>\n",
       "    </tr>\n",
       "    <tr>\n",
       "      <th>2</th>\n",
       "      <td>0.02729</td>\n",
       "      <td>0.0</td>\n",
       "      <td>7.07</td>\n",
       "      <td>0.0</td>\n",
       "      <td>0.469</td>\n",
       "      <td>7.185</td>\n",
       "      <td>61.1</td>\n",
       "      <td>4.9671</td>\n",
       "      <td>2.0</td>\n",
       "      <td>242.0</td>\n",
       "      <td>17.8</td>\n",
       "      <td>392.83</td>\n",
       "      <td>4.03</td>\n",
       "      <td>34.7</td>\n",
       "    </tr>\n",
       "    <tr>\n",
       "      <th>3</th>\n",
       "      <td>0.03237</td>\n",
       "      <td>0.0</td>\n",
       "      <td>2.18</td>\n",
       "      <td>0.0</td>\n",
       "      <td>0.458</td>\n",
       "      <td>6.998</td>\n",
       "      <td>45.8</td>\n",
       "      <td>6.0622</td>\n",
       "      <td>3.0</td>\n",
       "      <td>222.0</td>\n",
       "      <td>18.7</td>\n",
       "      <td>394.63</td>\n",
       "      <td>2.94</td>\n",
       "      <td>33.4</td>\n",
       "    </tr>\n",
       "    <tr>\n",
       "      <th>4</th>\n",
       "      <td>0.06905</td>\n",
       "      <td>0.0</td>\n",
       "      <td>2.18</td>\n",
       "      <td>0.0</td>\n",
       "      <td>0.458</td>\n",
       "      <td>7.147</td>\n",
       "      <td>54.2</td>\n",
       "      <td>6.0622</td>\n",
       "      <td>3.0</td>\n",
       "      <td>222.0</td>\n",
       "      <td>18.7</td>\n",
       "      <td>396.90</td>\n",
       "      <td>5.33</td>\n",
       "      <td>36.2</td>\n",
       "    </tr>\n",
       "    <tr>\n",
       "      <th>...</th>\n",
       "      <td>...</td>\n",
       "      <td>...</td>\n",
       "      <td>...</td>\n",
       "      <td>...</td>\n",
       "      <td>...</td>\n",
       "      <td>...</td>\n",
       "      <td>...</td>\n",
       "      <td>...</td>\n",
       "      <td>...</td>\n",
       "      <td>...</td>\n",
       "      <td>...</td>\n",
       "      <td>...</td>\n",
       "      <td>...</td>\n",
       "      <td>...</td>\n",
       "    </tr>\n",
       "    <tr>\n",
       "      <th>501</th>\n",
       "      <td>0.06263</td>\n",
       "      <td>0.0</td>\n",
       "      <td>11.93</td>\n",
       "      <td>0.0</td>\n",
       "      <td>0.573</td>\n",
       "      <td>6.593</td>\n",
       "      <td>69.1</td>\n",
       "      <td>2.4786</td>\n",
       "      <td>1.0</td>\n",
       "      <td>273.0</td>\n",
       "      <td>21.0</td>\n",
       "      <td>391.99</td>\n",
       "      <td>9.67</td>\n",
       "      <td>22.4</td>\n",
       "    </tr>\n",
       "    <tr>\n",
       "      <th>502</th>\n",
       "      <td>0.04527</td>\n",
       "      <td>0.0</td>\n",
       "      <td>11.93</td>\n",
       "      <td>0.0</td>\n",
       "      <td>0.573</td>\n",
       "      <td>6.120</td>\n",
       "      <td>76.7</td>\n",
       "      <td>2.2875</td>\n",
       "      <td>1.0</td>\n",
       "      <td>273.0</td>\n",
       "      <td>21.0</td>\n",
       "      <td>396.90</td>\n",
       "      <td>9.08</td>\n",
       "      <td>20.6</td>\n",
       "    </tr>\n",
       "    <tr>\n",
       "      <th>503</th>\n",
       "      <td>0.06076</td>\n",
       "      <td>0.0</td>\n",
       "      <td>11.93</td>\n",
       "      <td>0.0</td>\n",
       "      <td>0.573</td>\n",
       "      <td>6.976</td>\n",
       "      <td>91.0</td>\n",
       "      <td>2.1675</td>\n",
       "      <td>1.0</td>\n",
       "      <td>273.0</td>\n",
       "      <td>21.0</td>\n",
       "      <td>396.90</td>\n",
       "      <td>5.64</td>\n",
       "      <td>23.9</td>\n",
       "    </tr>\n",
       "    <tr>\n",
       "      <th>504</th>\n",
       "      <td>0.10959</td>\n",
       "      <td>0.0</td>\n",
       "      <td>11.93</td>\n",
       "      <td>0.0</td>\n",
       "      <td>0.573</td>\n",
       "      <td>6.794</td>\n",
       "      <td>89.3</td>\n",
       "      <td>2.3889</td>\n",
       "      <td>1.0</td>\n",
       "      <td>273.0</td>\n",
       "      <td>21.0</td>\n",
       "      <td>393.45</td>\n",
       "      <td>6.48</td>\n",
       "      <td>22.0</td>\n",
       "    </tr>\n",
       "    <tr>\n",
       "      <th>505</th>\n",
       "      <td>0.04741</td>\n",
       "      <td>0.0</td>\n",
       "      <td>11.93</td>\n",
       "      <td>0.0</td>\n",
       "      <td>0.573</td>\n",
       "      <td>6.030</td>\n",
       "      <td>80.8</td>\n",
       "      <td>2.5050</td>\n",
       "      <td>1.0</td>\n",
       "      <td>273.0</td>\n",
       "      <td>21.0</td>\n",
       "      <td>396.90</td>\n",
       "      <td>7.88</td>\n",
       "      <td>11.9</td>\n",
       "    </tr>\n",
       "  </tbody>\n",
       "</table>\n",
       "<p>506 rows × 14 columns</p>\n",
       "</div>"
      ],
      "text/plain": [
       "        CRIM    ZN  INDUS  CHAS    NOX     RM   AGE     DIS  RAD    TAX  \\\n",
       "0    0.00632  18.0   2.31   0.0  0.538  6.575  65.2  4.0900  1.0  296.0   \n",
       "1    0.02731   0.0   7.07   0.0  0.469  6.421  78.9  4.9671  2.0  242.0   \n",
       "2    0.02729   0.0   7.07   0.0  0.469  7.185  61.1  4.9671  2.0  242.0   \n",
       "3    0.03237   0.0   2.18   0.0  0.458  6.998  45.8  6.0622  3.0  222.0   \n",
       "4    0.06905   0.0   2.18   0.0  0.458  7.147  54.2  6.0622  3.0  222.0   \n",
       "..       ...   ...    ...   ...    ...    ...   ...     ...  ...    ...   \n",
       "501  0.06263   0.0  11.93   0.0  0.573  6.593  69.1  2.4786  1.0  273.0   \n",
       "502  0.04527   0.0  11.93   0.0  0.573  6.120  76.7  2.2875  1.0  273.0   \n",
       "503  0.06076   0.0  11.93   0.0  0.573  6.976  91.0  2.1675  1.0  273.0   \n",
       "504  0.10959   0.0  11.93   0.0  0.573  6.794  89.3  2.3889  1.0  273.0   \n",
       "505  0.04741   0.0  11.93   0.0  0.573  6.030  80.8  2.5050  1.0  273.0   \n",
       "\n",
       "     PTRATIO       B  LSTAT  target  \n",
       "0       15.3  396.90   4.98    24.0  \n",
       "1       17.8  396.90   9.14    21.6  \n",
       "2       17.8  392.83   4.03    34.7  \n",
       "3       18.7  394.63   2.94    33.4  \n",
       "4       18.7  396.90   5.33    36.2  \n",
       "..       ...     ...    ...     ...  \n",
       "501     21.0  391.99   9.67    22.4  \n",
       "502     21.0  396.90   9.08    20.6  \n",
       "503     21.0  396.90   5.64    23.9  \n",
       "504     21.0  393.45   6.48    22.0  \n",
       "505     21.0  396.90   7.88    11.9  \n",
       "\n",
       "[506 rows x 14 columns]"
      ]
     },
     "execution_count": 4,
     "metadata": {},
     "output_type": "execute_result"
    }
   ],
   "source": [
    "# dataframe creation\n",
    "\n",
    "boston_df = pd.DataFrame(boston['data'], columns=boston['feature_names'])\n",
    "boston_df['target'] = pd.DataFrame(boston['target'])\n",
    "boston_df"
   ]
  },
  {
   "cell_type": "code",
   "execution_count": 5,
   "metadata": {
    "colab": {
     "base_uri": "https://localhost:8080/"
    },
    "executionInfo": {
     "elapsed": 538,
     "status": "ok",
     "timestamp": 1662022740166,
     "user": {
      "displayName": "Raj krishan Ghosh",
      "userId": "08394546989760083469"
     },
     "user_tz": -330
    },
    "id": "rCR9x-G3JCCr",
    "outputId": "bbfe76b5-1306-4b0d-fb53-3e8bffecc900"
   },
   "outputs": [
    {
     "data": {
      "text/plain": [
       "CRIM         3.613524\n",
       "ZN          11.363636\n",
       "INDUS       11.136779\n",
       "CHAS         0.069170\n",
       "NOX          0.554695\n",
       "RM           6.284634\n",
       "AGE         68.574901\n",
       "DIS          3.795043\n",
       "RAD          9.549407\n",
       "TAX        408.237154\n",
       "PTRATIO     18.455534\n",
       "B          356.674032\n",
       "LSTAT       12.653063\n",
       "target      22.532806\n",
       "dtype: float64"
      ]
     },
     "execution_count": 5,
     "metadata": {},
     "output_type": "execute_result"
    }
   ],
   "source": [
    "boston_df.mean()\n",
    "#boston_df.mean(axis=0)\n",
    "#boston_df.mean(axis=1)"
   ]
  },
  {
   "cell_type": "code",
   "execution_count": 6,
   "metadata": {
    "colab": {
     "base_uri": "https://localhost:8080/",
     "height": 316
    },
    "executionInfo": {
     "elapsed": 562,
     "status": "ok",
     "timestamp": 1662022755600,
     "user": {
      "displayName": "Raj krishan Ghosh",
      "userId": "08394546989760083469"
     },
     "user_tz": -330
    },
    "id": "-n59aGwoJCCr",
    "outputId": "6fc6fde3-be5c-45ad-d042-00e4bf3ba011"
   },
   "outputs": [
    {
     "data": {
      "text/plain": [
       "array([[<AxesSubplot:title={'center':'CRIM'}>]], dtype=object)"
      ]
     },
     "execution_count": 6,
     "metadata": {},
     "output_type": "execute_result"
    },
    {
     "data": {
      "image/png": "[encoded data removed]",
      "text/plain": [
       "<Figure size 432x288 with 1 Axes>"
      ]
     },
     "metadata": {
      "needs_background": "light"
     },
     "output_type": "display_data"
    }
   ],
   "source": [
    "boston_df.hist(column='CRIM', bins=10)"
   ]
  },
  {
   "cell_type": "code",
   "execution_count": 7,
   "metadata": {
    "executionInfo": {
     "elapsed": 540,
     "status": "ok",
     "timestamp": 1662023134676,
     "user": {
      "displayName": "Raj krishan Ghosh",
      "userId": "08394546989760083469"
     },
     "user_tz": -330
    },
    "id": "9-WB5XKJJCCr"
   },
   "outputs": [],
   "source": [
    "# Split the data into X (input) and Y (output)\n",
    "\n",
    "X = boston_df[boston['feature_names']]\n",
    "Y = boston_df.target\n",
    "\n",
    "TrainX = np.asarray(X)\n",
    "TrainY = np.asarray(Y)\n",
    "\n",
    "# further splitting X (input) and Y (output) into 80% training data and 20% test data\n",
    "\n",
    "x_train, x_test, y_train, y_test = train_test_split(TrainX, TrainY, test_size=0.2, random_state=10)\n",
    "\n",
    "#print(x_train)\n",
    "#print(x_test)\n",
    "#print(y_train)\n",
    "#print(y_test)"
   ]
  },
  {
   "cell_type": "code",
   "execution_count": 8,
   "metadata": {
    "colab": {
     "base_uri": "https://localhost:8080/"
    },
    "executionInfo": {
     "elapsed": 545,
     "status": "ok",
     "timestamp": 1662023142497,
     "user": {
      "displayName": "Raj krishan Ghosh",
      "userId": "08394546989760083469"
     },
     "user_tz": -330
    },
    "id": "sunQKZrxJCCs",
    "outputId": "2dac1248-c0cc-40a1-87ea-cda901a3bba5"
   },
   "outputs": [
    {
     "name": "stdout",
     "output_type": "stream",
     "text": [
      "[31.0789639  31.721694   30.87314928 22.28234976 18.85606115 16.47132499\n",
      " 36.05004157 14.64032337 25.24078574 36.92073901 21.24395893 31.05887245\n",
      " 27.83837442 33.90940352 33.94484713 40.02040311 24.14373978 23.32713796\n",
      " 25.34120561 21.49039367 32.84083784 17.72022746 25.36791791 24.95097385\n",
      " 32.39265827 20.42497001 19.33257493 16.97042135 38.61885431  0.99817403\n",
      " 32.18145419 32.02985417 26.01208772 23.68917386 20.38030786 19.45806916\n",
      "  3.46147073 34.9034939  26.98281534 27.54218642 33.89021463 29.7542196\n",
      " 18.15540973 31.44609872 17.82446519 28.30204573 19.31527567 21.90113613\n",
      " 37.88043957 16.3464837  24.68739442 19.29872222 24.46627252 33.91063878\n",
      " 26.63876989 34.33425076 20.88039511 19.69421544 18.70556587 24.73298651\n",
      " 19.89555718 23.36114411 39.77392395 42.09981475 30.12796703 16.7250859\n",
      " 23.89207337  3.48737625 31.5042913  28.36556798 18.38104887 27.21050071\n",
      " 19.67650851 25.97427363 24.84540263  9.52991888 38.51706797  8.02841411\n",
      " 18.59655852 30.16501403 22.83387325 21.07185799 19.95600059 28.52361948\n",
      " 30.73312929 28.09476568 26.44574689 31.40505197 22.17282689 -5.34883928\n",
      " 21.5365369  19.98318903 25.02180512 23.40530556 19.39491422 18.53648492\n",
      " 27.40456512 22.41785055 26.72757523 23.20117213 23.9185384  19.61433412]\n"
     ]
    }
   ],
   "source": [
    "# linear regression\n",
    "\n",
    "linReg = LinearRegression().fit(x_train, y_train)\n",
    "#print(linReg.coef_)\n",
    "#print(linReg.intercept_)\n",
    "\n",
    "print(linReg.predict(x_test))"
   ]
  },
  {
   "cell_type": "markdown",
   "metadata": {
    "id": "9IC1311qMewn"
   },
   "source": [
    "## **Logistic Regression**"
   ]
  },
  {
   "cell_type": "code",
   "execution_count": null,
   "metadata": {
    "id": "DtRhnsqiMtoi"
   },
   "outputs": [],
   "source": [
    "# import for logistic regression\n",
    "\n",
    "from sklearn.linear_model import LogisticRegression"
   ]
  },
  {
   "cell_type": "code",
   "execution_count": null,
   "metadata": {
    "colab": {
     "base_uri": "https://localhost:8080/",
     "height": 779
    },
    "executionInfo": {
     "elapsed": 901,
     "status": "ok",
     "timestamp": 1662008381975,
     "user": {
      "displayName": "Raj krishan Ghosh",
      "userId": "08394546989760083469"
     },
     "user_tz": -330
    },
    "id": "t1oYDCT4Oasx",
    "outputId": "e2956780-6fef-42e0-b272-1f99869fea36"
   },
   "outputs": [
    {
     "name": "stdout",
     "output_type": "stream",
     "text": [
      "[10 13 13 49 19 29 31 46 33 16 34]\n",
      "(1000,)\n",
      "[0. 0. 0. 1. 0. 1. 1. 1. 1. 0. 1.]\n",
      "(1000,)\n",
      "[-1 -4 -4 -4  2  4 -5  4  5 -5 -3]\n",
      "(1000,)\n",
      "[ 9  9  9 45 21 33 26 50 38 11 31]\n",
      "(1000,)\n"
     ]
    },
    {
     "data": {
      "image/png": "[encoded data removed]",
      "text/plain": [
       "<Figure size 720x360 with 1 Axes>"
      ]
     },
     "metadata": {
      "needs_background": "light"
     },
     "output_type": "display_data"
    },
    {
     "data": {
      "image/png": "[encoded data removed]",
      "text/plain": [
       "<Figure size 720x360 with 1 Axes>"
      ]
     },
     "metadata": {
      "needs_background": "light"
     },
     "output_type": "display_data"
    },
    {
     "name": "stdout",
     "output_type": "stream",
     "text": [
      "(1000, 1)\n"
     ]
    }
   ],
   "source": [
    "np.random.seed(0)\n",
    "\n",
    "# training data\n",
    "\n",
    "x_train_basic = np.random.randint(low=10, high=50, size=1000)\n",
    "\n",
    "print(x_train_basic[:11])\n",
    "print(x_train_basic.shape)\n",
    "\n",
    "y_train = np.zeros(1000)\n",
    "y_train[x_train_basic >= 21] = 1\n",
    "\n",
    "print(y_train[:11])\n",
    "print(y_train.shape)\n",
    "\n",
    "noise_train = np.random.randint(low=-5, high=6, size=1000)\n",
    "print(noise_train[:11])\n",
    "print(noise_train.shape)\n",
    "\n",
    "x_train_final = x_train_basic + noise_train\n",
    "print(x_train_final[:11])\n",
    "print(x_train_final.shape)\n",
    "\n",
    "plt.figure(figsize=(10, 5))\n",
    "plt.scatter(x_train_basic, y_train)\n",
    "plt.show()\n",
    "\n",
    "plt.figure(figsize=(10, 5))\n",
    "plt.scatter(x_train_final, y_train)\n",
    "plt.show()\n",
    "\n",
    "x_train_final = x_train_final.reshape(-1, 1)\n",
    "print(x_train_final.shape)"
   ]
  },
  {
   "cell_type": "code",
   "execution_count": null,
   "metadata": {
    "colab": {
     "base_uri": "https://localhost:8080/",
     "height": 779
    },
    "executionInfo": {
     "elapsed": 8,
     "status": "ok",
     "timestamp": 1662008381976,
     "user": {
      "displayName": "Raj krishan Ghosh",
      "userId": "08394546989760083469"
     },
     "user_tz": -330
    },
    "id": "KTMFIuA5VyGZ",
    "outputId": "7b948343-a7ce-4fb3-8a6e-03a55e0f0f4a"
   },
   "outputs": [
    {
     "name": "stdout",
     "output_type": "stream",
     "text": [
      "[13 17 18 47 15 43 38 48 18 11 12]\n",
      "(1000,)\n",
      "[0. 0. 0. 1. 0. 1. 1. 1. 0. 0. 0.]\n",
      "(1000,)\n",
      "[ 4  1 -4  5 -3  1 -3 -5 -5  1  4]\n",
      "(1000,)\n",
      "[17 18 14 52 12 44 35 43 13 12 16]\n",
      "(1000,)\n"
     ]
    },
    {
     "data": {
      "image/png": "[encoded data removed]",
      "text/plain": [
       "<Figure size 720x360 with 1 Axes>"
      ]
     },
     "metadata": {
      "needs_background": "light"
     },
     "output_type": "display_data"
    },
    {
     "data": {
      "image/png": "[encoded data removed]",
      "text/plain": [
       "<Figure size 720x360 with 1 Axes>"
      ]
     },
     "metadata": {
      "needs_background": "light"
     },
     "output_type": "display_data"
    },
    {
     "name": "stdout",
     "output_type": "stream",
     "text": [
      "(1000, 1)\n"
     ]
    }
   ],
   "source": [
    "# testing data\n",
    "\n",
    "x_test_basic = np.random.randint(low=10, high=50, size=1000)\n",
    "\n",
    "print(x_test_basic[:11])\n",
    "print(x_test_basic.shape)\n",
    "\n",
    "y_test = np.zeros(1000)\n",
    "y_test[x_test_basic >= 21] = 1\n",
    "\n",
    "print(y_test[:11])\n",
    "print(y_test.shape)\n",
    "\n",
    "noise_test = np.random.randint(low=-5, high=6, size=1000)\n",
    "print(noise_test[:11])\n",
    "print(noise_test.shape)\n",
    "\n",
    "x_test_final = x_test_basic + noise_test\n",
    "print(x_test_final[:11])\n",
    "print(x_test_final.shape)\n",
    "\n",
    "plt.figure(figsize=(10, 5))\n",
    "plt.scatter(x_test_basic, y_test)\n",
    "plt.show()\n",
    "\n",
    "plt.figure(figsize=(10, 5))\n",
    "plt.scatter(x_test_final, y_test)\n",
    "plt.show()\n",
    "\n",
    "x_test_final = x_test_final.reshape(-1, 1)\n",
    "print(x_test_final.shape)"
   ]
  },
  {
   "cell_type": "code",
   "execution_count": null,
   "metadata": {
    "colab": {
     "base_uri": "https://localhost:8080/"
    },
    "executionInfo": {
     "elapsed": 7,
     "status": "ok",
     "timestamp": 1662008381977,
     "user": {
      "displayName": "Raj krishan Ghosh",
      "userId": "08394546989760083469"
     },
     "user_tz": -330
    },
    "id": "0Jnhf7tIRv_N",
    "outputId": "b1ddf41d-1139-4da5-9b06-e92743ee9369"
   },
   "outputs": [
    {
     "name": "stdout",
     "output_type": "stream",
     "text": [
      "[0. 1.]\n",
      "[-11.65852743]\n",
      "[[0.57702848]]\n",
      "[[18]\n",
      " [44]\n",
      " [35]\n",
      " [19]\n",
      " [47]]\n",
      "[[7.81087466e-01 2.18912534e-01]\n",
      " [1.08848191e-06 9.99998912e-01]\n",
      " [1.95947229e-04 9.99804053e-01]\n",
      " [6.67075256e-01 3.32924744e-01]\n",
      " [1.92761704e-07 9.99999807e-01]]\n"
     ]
    }
   ],
   "source": [
    "# logistic regression\n",
    "\n",
    "model_logistic = LogisticRegression()\n",
    "model_logistic.fit(x_train_final, y_train)\n",
    "\n",
    "print(model_logistic.classes_)\n",
    "print(model_logistic.intercept_)\n",
    "print(model_logistic.coef_)\n",
    "\n",
    "print(x_test_final[-5:])\n",
    "print(model_logistic.predict_proba(x_test_final)[-5:])"
   ]
  },
  {
   "cell_type": "code",
   "execution_count": null,
   "metadata": {
    "id": "mU6kqJTKaKFP"
   },
   "outputs": [],
   "source": []
  }
 ],
 "metadata": {
  "colab": {
   "collapsed_sections": [],
   "provenance": []
  },
  "kernelspec": {
   "display_name": "Python 3 (ipykernel)",
   "language": "python",
   "name": "python3"
  },
  "language_info": {
   "codemirror_mode": {
    "name": "ipython",
    "version": 3
   },
   "file_extension": ".py",
   "mimetype": "text/x-python",
   "name": "python",
   "nbconvert_exporter": "python",
   "pygments_lexer": "ipython3",
   "version": "3.9.6"
  }
 },
 "nbformat": 4,
 "nbformat_minor": 1
}
